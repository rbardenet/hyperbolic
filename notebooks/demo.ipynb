{
 "cells": [
  {
   "cell_type": "code",
   "execution_count": 15,
   "metadata": {
    "collapsed": false
   },
   "outputs": [
    {
     "name": "stdout",
     "output_type": "stream",
     "text": [
      "The autoreload extension is already loaded. To reload it, use:\n",
      "  %reload_ext autoreload\n"
     ]
    }
   ],
   "source": [
    "import sys\n",
    "sys.path.append(\"../hyperbolic\")\n",
    "import hyperbolic as hype\n",
    "\n",
    "%load_ext autoreload\n",
    "%autoreload 2"
   ]
  },
  {
   "cell_type": "markdown",
   "metadata": {},
   "source": [
    "To run an experiment, \n",
    "* we sample a realization of white Gaussian noise on the space of analytic signals, \n",
    "* we compute its analytic wavelet transform (AWT) using Paul's wavelet, \n",
    "* we find the zeros of the scalogram, \n",
    "* we plot the signal, its spectrum, and the scalogram.\n",
    "\n",
    "The code in `examples/example1.py` mimics this exactly."
   ]
  },
  {
   "cell_type": "code",
   "execution_count": 21,
   "metadata": {
    "collapsed": false
   },
   "outputs": [
    {
     "name": "stdout",
     "output_type": "stream",
     "text": [
      "Figures will be saved in the current folder; file names will contain the id\"demo\".\n",
      "Signals are discretized with N=1024 values, equidistributed along [-A,A], where A=5.\n",
      "The wavelet parameter is alpha=2.0.\n",
      "The truncation level for random series is M=1.00E+05.\n",
      "### Computing truncated random series in the time domain.\n",
      "### Computing spectrum.\n",
      "### Plotting the spectrum of the realization of white noise.\n",
      "### Plotting the corresponding realization of white noise.\n",
      "### Plotting the scalogram.\n"
     ]
    }
   ],
   "source": [
    "%run -i '../examples/example1.py'"
   ]
  },
  {
   "cell_type": "markdown",
   "metadata": {},
   "source": [
    "Now you should have the output as pdf and eps figures in the current folder. Alternately, if your browser allows it, you can view them from this notebook as follows."
   ]
  },
  {
   "cell_type": "code",
   "execution_count": 33,
   "metadata": {
    "collapsed": false
   },
   "outputs": [
    {
     "data": {
      "text/html": [
       "\n",
       "        <iframe\n",
       "            width=\"1000\"\n",
       "            height=\"400\"\n",
       "            src=\"scalogram_demo_alpha=0.0.pdf\"\n",
       "            frameborder=\"0\"\n",
       "            allowfullscreen\n",
       "        ></iframe>\n",
       "        "
      ],
      "text/plain": [
       "<IPython.lib.display.IFrame at 0x10557c630>"
      ]
     },
     "execution_count": 33,
     "metadata": {},
     "output_type": "execute_result"
    }
   ],
   "source": [
    "from IPython.display import IFrame\n",
    "IFrame(\"scalogram_demo_alpha=0.0.pdf\", width=1000, height=400)"
   ]
  },
  {
   "cell_type": "code",
   "execution_count": null,
   "metadata": {
    "collapsed": true
   },
   "outputs": [],
   "source": []
  }
 ],
 "metadata": {
  "kernelspec": {
   "display_name": "Python 3",
   "language": "python",
   "name": "python3"
  },
  "language_info": {
   "codemirror_mode": {
    "name": "ipython",
    "version": 3
   },
   "file_extension": ".py",
   "mimetype": "text/x-python",
   "name": "python",
   "nbconvert_exporter": "python",
   "pygments_lexer": "ipython3",
   "version": "3.4.5"
  }
 },
 "nbformat": 4,
 "nbformat_minor": 1
}
